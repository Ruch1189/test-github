{
 "cells": [
  {
   "cell_type": "markdown",
   "id": "d9da291c",
   "metadata": {},
   "source": [
    "python basics"
   ]
  },
  {
   "cell_type": "code",
   "execution_count": 1,
   "id": "8685be7b",
   "metadata": {},
   "outputs": [
    {
     "name": "stdout",
     "output_type": "stream",
     "text": [
      "Hello World\n"
     ]
    },
    {
     "name": "stdout",
     "output_type": "stream",
     "text": [
      "the sum is 7\n"
     ]
    }
   ],
   "source": [
    "print(\"Hello World\")\n",
    "\n",
    "\n",
    "\n",
    "\n",
    "\n",
    "\n",
    "\n",
    "#print('What is your age?')\n",
    "#age = input()\n",
    "#x = input('Enter a number: ')\n",
    "#print(type(x))\n",
    "#x = int(input('Enter a number: '))\n",
    "#print(type(x))\n",
    "#x = 5\n",
    "#print('The number is '+ str(x))\n",
    "a = int(input(\"first number is :\"))\n",
    "b = int(input(\"second number is :\"))\n",
    "print(\"the sum is\", a+b)\n",
    "\n"
   ]
  },
  {
   "cell_type": "code",
   "execution_count": 1,
   "id": "eb7f9e0f",
   "metadata": {},
   "outputs": [
    {
     "name": "stdout",
     "output_type": "stream",
     "text": [
      "['False', 'None', 'True', 'and', 'as', 'assert', 'async', 'await', 'break', 'class', 'continue', 'def', 'del', 'elif', 'else', 'except', 'finally', 'for', 'from', 'global', 'if', 'import', 'in', 'is', 'lambda', 'nonlocal', 'not', 'or', 'pass', 'raise', 'return', 'try', 'while', 'with', 'yield']\n",
      "35\n"
     ]
    }
   ],
   "source": [
    "# PROGRAM FOR reserved words list\n",
    "import keyword\n",
    "print(keyword.kwlist)\n",
    "# total count of keywords\n",
    "print(len(keyword.kwlist))\n",
    " # variable - when you create a variable you reserved a memory location to store data, it can be integer, string or float"
   ]
  },
  {
   "cell_type": "markdown",
   "id": "44ed57f3",
   "metadata": {},
   "source": [
    "# python Identifiers "
   ]
  },
  {
   "cell_type": "markdown",
   "id": "4e92af36",
   "metadata": {},
   "source": [
    "# Multiple Assignments"
   ]
  },
  {
   "cell_type": "code",
   "execution_count": null,
   "id": "650ea708",
   "metadata": {},
   "outputs": [],
   "source": [
    "# printing multiple variables in a single row\n",
    "a,b,c = 1,2,3\n",
    "print(a,b,c)\n",
    "# multiple variable of single data types\n",
    "a,b,c = \"maau\", 35, 35.14\n",
    "print(a,b,c)\n",
    "# single value to several variables\n",
    "a = b= c = \"maau\"\n",
    "print(a,b,c)\n",
    "\n",
    "# finding memory addresss \n",
    "print(id(a))\n",
    "\n",
    "# python data types - numbers, strings, list, dictionary, tuple\n",
    "# numbers - integer, float, complex number\n",
    "i = 1\n",
    "j = 1.1\n",
    "k = 2+3j\n",
    "print(type(i))\n",
    "print(type(j))\n",
    "print(type(k))\n",
    "\n",
    "\n",
    "a = True\n",
    "b = False\n",
    "x= 5\n",
    "y=5\n",
    "print('a and b is',a or b)\n",
    "print(x==y or x>y)"
   ]
  },
  {
   "cell_type": "code",
   "execution_count": 22,
   "id": "75a637cf",
   "metadata": {},
   "outputs": [
    {
     "name": "stdout",
     "output_type": "stream",
     "text": [
      "5\n",
      "-1\n",
      "6\n",
      "Float division of x/y = 0.6666666666666666\n",
      "Integer division of x/y= 0\n",
      "modulus of x%y= 2\n",
      "exponentiation of x raise to power y = 8\n"
     ]
    }
   ],
   "source": [
    "# arithmatic operations\n",
    "x = 2\n",
    "y = 3\n",
    "#addition\n",
    "print(x+y)\n",
    "#subtraction\n",
    "print(x-y)\n",
    "#multipication\n",
    "print(x*y)\n",
    "#float division operator\n",
    "print('Float division of x/y =',x/y)\n",
    "#integer division\n",
    "print('Integer division of x/y=', x//y)\n",
    "#modulus\n",
    "print('modulus of x%y=',x%y)\n",
    "#exponentiation\n",
    "print('exponentiation of x raise to power y =',x**y)\n"
   ]
  },
  {
   "cell_type": "code",
   "execution_count": 39,
   "id": "9a30cc75",
   "metadata": {},
   "outputs": [
    {
     "name": "stdout",
     "output_type": "stream",
     "text": [
      "20>10 is True\n",
      "20<10 is False\n",
      "20==10 is False\n",
      "20!=10 is True\n",
      "20>=10 is True\n",
      "20<=10 is False\n",
      "False\n",
      "True\n",
      "True\n",
      "False\n"
     ]
    }
   ],
   "source": [
    "# comparison operators\n",
    "a= 20\n",
    "b= 10\n",
    "#greater than\n",
    "print('{}>{} is'.format(a,b), a>b)\n",
    "#less than\n",
    "print('{}<{} is'.format(a,b), a<b)\n",
    "#equal to\n",
    "print('{}=={} is'.format(a,b), a==b)\n",
    "#not eual to\n",
    "print('{}!={} is'.format(a,b), a!=b)\n",
    "#greater than or equal\n",
    "print('{}>={} is'.format(a,b), a>=b)\n",
    "#less or equal\n",
    "print('{}<={} is'.format(a,b), a<=b)\n",
    "\n",
    "a = True\n",
    "b = False\n",
    "x = 50\n",
    "y = 100\n",
    "#and operator\n",
    "print(x==y and x<y)\n",
    "#or operator\n",
    "print(x==y or x<y)\n",
    "#not operator\n",
    "print(not x==y)\n",
    "print(not x<y)\n",
    "\n"
   ]
  },
  {
   "cell_type": "code",
   "execution_count": 56,
   "id": "1c516072",
   "metadata": {
    "scrolled": true
   },
   "outputs": [
    {
     "name": "stdout",
     "output_type": "stream",
     "text": [
      "140704211440712\n",
      "140704211441032\n",
      "140704211441352\n",
      "2267020846640\n",
      "2267000950448\n"
     ]
    }
   ],
   "source": [
    "print(id(a))\n",
    "print(id(b))\n",
    "print(id(c))\n",
    "print(id(\"alphabets\"))\n",
    "print(id(\"Ruchira\"))"
   ]
  },
  {
   "cell_type": "code",
   "execution_count": 48,
   "id": "c922c4a8",
   "metadata": {},
   "outputs": [
    {
     "name": "stdout",
     "output_type": "stream",
     "text": [
      "simple expression value is 2\n",
      "assignment value is 2\n",
      "assignment value is 0\n",
      "assignment value is 4\n",
      "assignment value is 2.5\n",
      "assignment value is 2\n",
      "assignment value is 1\n",
      "assignment value is 25\n"
     ]
    }
   ],
   "source": [
    "# assignment operator\n",
    "i = 1\n",
    "i = i+1\n",
    "print('simple expression value is',i)\n",
    "#addition \n",
    "j=1\n",
    "j+=1\n",
    "print('assignment value is', j)\n",
    "#subtraction\n",
    "j=1\n",
    "j-=1\n",
    "print('assignment value is', j)\n",
    "#multiplication\n",
    "j=2\n",
    "j*=2\n",
    "print('assignment value is', j)\n",
    "#float division\n",
    "j=5\n",
    "j/=2\n",
    "print('assignment value is', j)\n",
    "#integer division\n",
    "j=5\n",
    "j//=2\n",
    "print('assignment value is', j)\n",
    "#remainder \n",
    "j=5\n",
    "j%=2\n",
    "print('assignment value is', j)\n",
    "#exponentiation\n",
    "j=5\n",
    "j**=2\n",
    "print('assignment value is', j)"
   ]
  },
  {
   "cell_type": "code",
   "execution_count": 58,
   "id": "7d973db3",
   "metadata": {},
   "outputs": [
    {
     "name": "stdout",
     "output_type": "stream",
     "text": [
      "Binary number for 17 is 00010001\n",
      "Binary number for 10 is 00001010\n",
      "Binary and value is 0\n",
      "Binary or value is 27\n",
      "Binary xor value is 27\n",
      "Binary ones complement is -18\n",
      "Binary right shift is 17408\n"
     ]
    }
   ],
   "source": [
    "#bitwise operator\n",
    "#convert a number to binary\n",
    "#syntax :'{0:08b}.format(number)'\n",
    "a= 17\n",
    "b = 10\n",
    "print (\"Binary number for {0} is {0:08b}\".format(a))\n",
    "print (\"Binary number for {0} is {0:08b}\".format(b))\n",
    "#and\n",
    "print(\"Binary and value is\", a&b)\n",
    "#or\n",
    "print(\"Binary or value is\", a|b)\n",
    "#xor\n",
    "print(\"Binary xor value is\", a^b)\n",
    "#not\n",
    "print(\"Binary ones complement is\", ~a)\n",
    "#right shift\n",
    "print(\"Binary right shift is\", a>>b)\n",
    "#left shift\n",
    "print(\"Binary left shift is\", a<<b)"
   ]
  },
  {
   "cell_type": "code",
   "execution_count": 69,
   "id": "b9e9ed74",
   "metadata": {},
   "outputs": [
    {
     "name": "stdout",
     "output_type": "stream",
     "text": [
      "memory location of x is 140713888420936\n",
      "memory location of y is 140713888420936\n",
      "True\n",
      "memory location of x is 1865911044912\n",
      "memory location of y is 1865911044912\n",
      "True\n",
      "memory location of x is 1865981362752\n",
      "memory location of y is 1865981385728\n",
      "False\n",
      "True\n",
      "True\n",
      "False\n",
      "False\n",
      "True\n"
     ]
    }
   ],
   "source": [
    "#special operators\n",
    "#Identity operator\n",
    "#is operator\n",
    "x = 10\n",
    "print(\"memory location of x is\",id(x))\n",
    "y = 10\n",
    "print(\"memory location of y is\",id(y))\n",
    "print(x is y)\n",
    "x = \"python\"\n",
    "print(\"memory location of x is\",id(x))\n",
    "y = \"python\"\n",
    "print(\"memory location of y is\",id(y))\n",
    "print(x is y)\n",
    "x = [1,2,3]\n",
    "print(\"memory location of x is\",id(x))\n",
    "y = [1,2,3]\n",
    "print(\"memory location of y is\",id(y))\n",
    "print(x is y)\n",
    "#is not\n",
    "print(x is not y)\n",
    "\n",
    "#membership operator\n",
    "#in operator\n",
    "mylist=[1,2,3,4]\n",
    "print(2 in mylist)\n",
    "print(21 in mylist)\n",
    "#not in\n",
    "print(2 not in mylist)\n",
    "print(21 not in mylist)"
   ]
  },
  {
   "cell_type": "code",
   "execution_count": null,
   "id": "56320360",
   "metadata": {},
   "outputs": [],
   "source": [
    "#loop\n",
    "#while loop\n",
    "i = 1\n",
    "while i<=6:\n",
    "    print(i)\n",
    "    i +=1\n",
    "print(\"execution completed\")\n",
    "\n",
    "#infinite loop(ctrl +c to stop the loop)\n",
    "i = 1\n",
    "while i<=6:\n",
    "    print(i)\n",
    "   # i +=1\n",
    "print(\"execution completed\")\n",
    "\n"
   ]
  },
  {
   "cell_type": "code",
   "execution_count": 8,
   "id": "df9a3f9b",
   "metadata": {},
   "outputs": [
    {
     "name": "stdout",
     "output_type": "stream",
     "text": [
      "user age is 18 or younger\n",
      "user age is 18 above\n",
      "age is 18\n",
      "-ve number\n",
      "4 digit number\n"
     ]
    }
   ],
   "source": [
    "# If else statement\n",
    "age = 15\n",
    "if(age <= 18):\n",
    "    print(\"user age is 18 or younger\")\n",
    "    \n",
    "# if else statement\n",
    "age = 19\n",
    "if age <= 18: \n",
    "    print(\"user age is 18 younger\")\n",
    "else:\n",
    "    print(\"user age is 18 above\")\n",
    "    \n",
    "# if else elif\n",
    "age = 18\n",
    "if age < 18: \n",
    "    print(\"user age is 18 or younger\")\n",
    "elif age == 18:\n",
    "    print(\"age is 18\")\n",
    "else:\n",
    "    print(\"user age is 18 or above\")\n",
    "\n",
    "    #multiple elif\n",
    "num = 1000\n",
    "if 9 < num < 99:\n",
    "    print(\" 2 digit number\")\n",
    "elif 99< num < 999:\n",
    "    print(\"3 digit is number\")\n",
    "elif 999 < num <9999:\n",
    "    print(\"4 digit number\")\n",
    "else:\n",
    "    print(\"not in range\")\n",
    "    \n",
    "#nested if\n",
    "num = -15\n",
    "if num >=0:\n",
    "    if num ==0:\n",
    "        print(\"zero\")\n",
    "    else:\n",
    "        print(\"+ve number\")\n",
    "else:\n",
    "    print(\"-ve numbe\n",
    "    \n",
    "\n",
    "    "
   ]
  },
  {
   "cell_type": "code",
   "execution_count": 14,
   "id": "ca9f597f",
   "metadata": {},
   "outputs": [
    {
     "name": "stdout",
     "output_type": "stream",
     "text": [
      "apple\n",
      "banana\n",
      "cherry\n",
      "mango\n",
      "watermelon\n",
      "1\n",
      "2\n",
      "3\n",
      "4\n",
      "5\n",
      "the sum of all numbers is 76\n",
      "1\n",
      "2\n",
      "3\n",
      "4\n",
      "5\n",
      "no item left\n",
      "R\n",
      "u\n",
      "c\n",
      "h\n",
      "i\n",
      "r\n",
      "a\n"
     ]
    }
   ],
   "source": [
    "#for loop \n",
    "fruits = [\"apple\", \"banana\", \"cherry\", \"mango\",\"watermelon\"]\n",
    "for j in fruits:\n",
    "    print(j)\n",
    "# another ex in numbers\n",
    "number = [1,2,3,4,5]\n",
    "for x in number:\n",
    "    print(x)\n",
    "\n",
    "# find sum of all\n",
    "number = [1,5,10,15,20,25]\n",
    "sum = 0\n",
    "for v in number:\n",
    "    sum += v\n",
    "print(\"the sum of all numbers is\", sum)\n",
    "\n",
    "#add else to for loop\n",
    "number = [1,2,3,4,5]\n",
    "for x in number:\n",
    "    print(x)\n",
    "else:\n",
    "    print(\"no item left\")\n",
    "\n",
    "# program to print each character of a string\n",
    "for b in \"Ruchira\":\n",
    "    print(b)\n",
    "\n",
    "\n",
    "\n"
   ]
  },
  {
   "cell_type": "code",
   "execution_count": 19,
   "id": "62d8403e",
   "metadata": {},
   "outputs": [
    {
     "name": "stdout",
     "output_type": "stream",
     "text": [
      "range(0, 10)\n",
      "6\n",
      "7\n",
      "8\n",
      "9\n",
      "1\n",
      "11\n",
      "21\n"
     ]
    }
   ],
   "source": [
    "# Range function\n",
    "print (range(10))\n",
    "\n",
    "# another ex\n",
    "for x in range(6,10):\n",
    "    print(x)\n",
    "# using step size\n",
    "for x in range (1,30,10): # 10 is stepsize\n",
    "    print(x)\n",
    "    "
   ]
  },
  {
   "cell_type": "code",
   "execution_count": 11,
   "id": "b79a0575",
   "metadata": {},
   "outputs": [
    {
     "name": "stdout",
     "output_type": "stream",
     "text": [
      "fruit name is : apple\n",
      "fruit name is : banana\n",
      "fruit name is : cherry\n",
      "fruit name is : mango\n",
      "fruit name is : watermelon\n",
      "0 apple\n",
      "1 banana\n",
      "2 cherry\n",
      "3 mango\n",
      "4 watermelon\n"
     ]
    }
   ],
   "source": [
    "# indexing \n",
    "fruits = [\"apple\", \"banana\", \"cherry\", \"mango\",\"watermelon\"]\n",
    "for x in range (len(fruits)):\n",
    "    print('fruit name is :', fruits[x])\n",
    "    \n",
    "# enumerate into index  \n",
    "fruits = [\"apple\", \"banana\", \"cherry\", \"mango\",\"watermelon\"]\n",
    "for x, val in enumerate(fruits):\n",
    "    print(x, val)\n"
   ]
  },
  {
   "cell_type": "code",
   "execution_count": 12,
   "id": "fa470ab3",
   "metadata": {},
   "outputs": [
    {
     "name": "stdout",
     "output_type": "stream",
     "text": [
      "1 1\n",
      "1 2\n",
      "1 3\n",
      "2 1\n",
      "2 2\n",
      "2 3\n",
      "3 1\n",
      "3 2\n",
      "3 3\n",
      "red apple\n",
      "red bananna\n",
      "red cherry\n",
      "green apple\n",
      "green bananna\n",
      "green cherry\n",
      "tasty apple\n",
      "tasty bananna\n",
      "tasty cherry\n"
     ]
    }
   ],
   "source": [
    "#nested loop\n",
    "for x in range(1,4):\n",
    "    for y in range (1,4):\n",
    "        print(x,y)\n",
    "# anothe nested loop\n",
    "adj =[\"red\",\"green\",\"tasty\",]\n",
    "fruits =[\"apple\",\"bananna\",\"cherry\"]\n",
    "\n",
    "for x in adj:\n",
    "    for y in fruits:\n",
    "        print(x,y)"
   ]
  },
  {
   "cell_type": "code",
   "execution_count": 7,
   "id": "b374f754",
   "metadata": {},
   "outputs": [
    {
     "name": "stdout",
     "output_type": "stream",
     "text": [
      "apple\n",
      "banana\n",
      "cherry\n",
      "mango\n",
      "1\n",
      "2\n",
      "3\n",
      "1\n",
      "2\n",
      "3\n",
      "4\n",
      "1 1\n",
      "1 2\n",
      "1 3\n",
      "2 1\n",
      "2 2\n",
      "3 1\n",
      "3 2\n",
      "3 3\n"
     ]
    }
   ],
   "source": [
    "# breack and continue statement\n",
    "fruits = [\"apple\", \"banana\", \"cherry\", \"mango\",\"watermelon\"]\n",
    "for j in fruits:\n",
    "    print(j)\n",
    "    if j == \"mango\":\n",
    "        break\n",
    "# anothe ex\n",
    "number = [1,2,3,4,5]\n",
    "for x in number:\n",
    "    print(x)\n",
    "    if x == 3:\n",
    "        break\n",
    "# anothe ex\n",
    "i = 1\n",
    "while i<=10:\n",
    "    print(i)\n",
    "    i += 1\n",
    "    if i == 5:\n",
    "        break\n",
    "# nested ex\n",
    "for x in range(1,4):\n",
    "    for y in range (1,4):\n",
    "        print(x,y)\n",
    "        if x ==2 and y == 2:\n",
    "            break\n"
   ]
  },
  {
   "cell_type": "code",
   "execution_count": 15,
   "id": "3f8bb81f",
   "metadata": {},
   "outputs": [
    {
     "name": "stdout",
     "output_type": "stream",
     "text": [
      "1\n",
      "2\n",
      "3\n",
      "4\n",
      "6\n",
      "7\n",
      "8\n",
      "9\n",
      "10\n",
      "11\n",
      "1\n",
      "3\n",
      "5\n",
      "2\n",
      "4\n",
      "6\n",
      "8\n"
     ]
    }
   ],
   "source": [
    "# continuous statement \n",
    "i = 0\n",
    "while i<=10:\n",
    "    i+=1\n",
    "    if i == 5: #(skip particular iteration, her it will skip 5)\n",
    "        continue\n",
    "    print(i)\n",
    "    \n",
    "# print even numbers in list\n",
    "numbers = [1,2,3,4,5]\n",
    "for x in numbers:\n",
    "    if x % 2 !=0 :\n",
    "        continue\n",
    "    print(x)\n",
    "#\n",
    "for x in range(1,10):\n",
    "    if x %2 !=0:\n",
    "        continue\n",
    "    print(x)"
   ]
  },
  {
   "cell_type": "code",
   "execution_count": 3,
   "id": "fa1e42fe",
   "metadata": {},
   "outputs": [
    {
     "name": "stdout",
     "output_type": "stream",
     "text": [
      "t\n",
      "m\n",
      "for\n",
      "python for ml\n",
      "python for\n",
      "for ml\n"
     ]
    }
   ],
   "source": [
    "# strings\n",
    "# positive index\n",
    "mystring = \"python for ml\"\n",
    "print(mystring[2])\n",
    "# negative index\n",
    "mystring = \"python for ml\"\n",
    "print(mystring[-2])\n",
    "# slicing\n",
    "mystring = \"python for ml\"\n",
    "print(mystring[7:10])\n",
    "\n",
    "mystring = \"python for ml\"\n",
    "print(mystring[:])\n",
    "\n",
    "mystring = \"python for ml\"\n",
    "print(mystring[:10])\n",
    "\n",
    "mystring = \"python for ml\"\n",
    "print(mystring[7:])\n"
   ]
  },
  {
   "cell_type": "code",
   "execution_count": 4,
   "id": "fa50842a",
   "metadata": {},
   "outputs": [
    {
     "name": "stdout",
     "output_type": "stream",
     "text": [
      "python\n",
      "memory location before update 2547285101360\n",
      "python tutorials\n",
      "memory location after update 2547334031968\n"
     ]
    }
   ],
   "source": [
    "# creating string and checking the memory location\n",
    "str1 = \"python\"\n",
    "print(str1)\n",
    "print(\"memory location before update\",id(str1))\n",
    "\n",
    "#trying to modify the string\n",
    "str1 += \" tutorials\"\n",
    "print(str1)\n",
    "print(\"memory location after update\",id(str1))\n"
   ]
  },
  {
   "cell_type": "code",
   "execution_count": 9,
   "id": "3912ee67",
   "metadata": {},
   "outputs": [
    {
     "name": "stdout",
     "output_type": "stream",
     "text": [
      "Hello shaiiva\n",
      "Hello Hello Hello \n"
     ]
    }
   ],
   "source": [
    "# concatenation (joining 2 or more strings)\n",
    "s1 = \"Hello \"\n",
    "s2 = \"shaiiva\"\n",
    "print(s1 +s2)\n",
    "# repeating stings\n",
    "print(s1 * 3)\n",
    "\n"
   ]
  },
  {
   "cell_type": "code",
   "execution_count": 16,
   "id": "5757f192",
   "metadata": {},
   "outputs": [
    {
     "name": "stdout",
     "output_type": "stream",
     "text": [
      "True\n",
      "False\n",
      "False\n",
      "True\n",
      "True\n",
      "False\n",
      "True\n",
      "True\n"
     ]
    }
   ],
   "source": [
    "# string comparison\n",
    "print(\"Python\"==\"Python\")\n",
    "print(\"Python\"==\"PythoN\")\n",
    "#not equal to\n",
    "print(\"Python\"!=\"Python\")\n",
    "print(\"Python\"!=\"PythoN\")\n",
    "# comparison\n",
    "print(\"Python\">\"PYTHON\")\n",
    "print(\"Python\"<\"PYTHON\")\n",
    "#membership opertor\n",
    "#in \n",
    "str1 = \"All the best\"\n",
    "print('best'in str1)\n",
    "#not in \n",
    "str1 = \"All the best\"\n",
    "print('me'not in str1)"
   ]
  },
  {
   "cell_type": "code",
   "execution_count": 18,
   "id": "f04c6989",
   "metadata": {},
   "outputs": [
    {
     "name": "stdout",
     "output_type": "stream",
     "text": [
      "[]\n",
      "[10, 20, 30, 40, 50]\n",
      "['python', 'java', 'c']\n"
     ]
    }
   ],
   "source": [
    "# create an empty list\n",
    "list1 = []\n",
    "print(list1)\n",
    "#list of integers\n",
    "list2 =[10,20,30,40,50]\n",
    "print(list2)\n",
    "#list of strings\n",
    "list3 = [\"python\",\"java\",\"c\"]\n",
    "print(list3)\n",
    "#list of different datatypes\n",
    "list4 = [50,95.5, \"python\"]\n",
    "print(list4)\n",
    "\n",
    "#list of lists\n",
    "list5 =[[15,50],[\"python\",\"datacenter\"]]\n",
    "print(list5)\n",
    "\n"
   ]
  },
  {
   "cell_type": "code",
   "execution_count": 19,
   "id": "e06d6569",
   "metadata": {},
   "outputs": [
    {
     "name": "stdout",
     "output_type": "stream",
     "text": [
      "40\n",
      "20\n",
      "[20, 30]\n"
     ]
    }
   ],
   "source": [
    "#list\n",
    "#index and negative index\n",
    "print(list2[-2])\n",
    "print(list2[1])\n",
    "\n",
    "#slicing from index 1 to index 3\n",
    "print(list2[1:3])"
   ]
  },
  {
   "cell_type": "code",
   "execution_count": 24,
   "id": "c22c548c",
   "metadata": {},
   "outputs": [
    {
     "name": "stdout",
     "output_type": "stream",
     "text": [
      "[]\n",
      "[10, 20, 30, 40, 50]\n",
      "['python', 'java', 'c']\n",
      "[50, 95.5, 'python']\n",
      "[[15, 50], ['python', 'datacenter']]\n",
      "40\n",
      "20\n",
      "[20, 30]\n",
      "list b4 upadating the item ['python', 'java', 'c']\n",
      "list after updating the item ['python', 'java', 'R']\n",
      "['python', 'java']\n",
      "jan\n",
      "feb\n",
      "march\n"
     ]
    }
   ],
   "source": [
    "#updating the list\n",
    "list3 = [\"python\",\"java\",\"c\"]\n",
    "print(\"list b4 upadating the item\",list3)\n",
    "list3[2] = \"R\"\n",
    "print(\"list after updating the item\", list3)\n",
    "\n",
    "#delete list element \n",
    "list3 = [\"python\",\"java\",\"c\"]\n",
    "del list3[2]\n",
    "print(list3)\n",
    "\n",
    "#loop through a list \n",
    "month = [\"jan\",\"feb\",\"march\"]\n",
    "for element in month:\n",
    "    print(element)\n"
   ]
  },
  {
   "cell_type": "code",
   "execution_count": 38,
   "id": "e5d74a65",
   "metadata": {},
   "outputs": [
    {
     "name": "stdout",
     "output_type": "stream",
     "text": [
      "[20, 30, 40, 50]\n",
      "value removed is 30\n",
      "[10, 20, 40, 50]\n",
      "2\n",
      "[50, 40, 30, 20, 10]\n",
      "sorted list: [10, 20, 30, 35, 40, 50, 65]\n",
      "[65, 50, 40, 35, 30, 20, 10]\n",
      "['welcome', 'to', 'python']\n"
     ]
    }
   ],
   "source": [
    "# List methods \n",
    "#remove\n",
    "list2 =[10,20,30,40,50]\n",
    "list2.remove(10)\n",
    "print(list2)\n",
    "#pop\n",
    "list2 =[10,20,30,40,50]\n",
    "a =list2.pop(2)\n",
    "print(\"value removed is\", a)\n",
    "print(list2)\n",
    "#count\n",
    "list2 =[10,20,30,40,50,10]\n",
    "print(list2.count(10))\n",
    "#reverse\n",
    "list2 =[10,20,30,40,50]\n",
    "list2.reverse()\n",
    "print(list2)\n",
    "#sort\n",
    "list2 =[10,35,20,30,65,40,50]\n",
    "list2.sort()\n",
    "print('sorted list:',list2)\n",
    "#reverse sort\n",
    "list2 =[10,35,20,30,65,40,50]\n",
    "list2.sort(reverse=True)\n",
    "print(list2)\n",
    "#string split\n",
    "s1 = \"welcome to python\"\n",
    "print(s1.split())\n"
   ]
  },
  {
   "cell_type": "code",
   "execution_count": 40,
   "id": "c238c341",
   "metadata": {},
   "outputs": [
    {
     "name": "stdout",
     "output_type": "stream",
     "text": [
      "[0, 1, 8, 27, 64, 125, 216, 343, 512, 729]\n",
      "[0, 1, 8, 27, 64, 125, 216, 343, 512, 729]\n"
     ]
    }
   ],
   "source": [
    "#list comprehension\n",
    "cube=[]\n",
    "for i in range(10):\n",
    "    cube.append(i**3)\n",
    "print(cube)\n",
    "# or\n",
    "cube=[i**3 for i in range(10)]\n",
    "print(cube)"
   ]
  },
  {
   "cell_type": "code",
   "execution_count": 43,
   "id": "23064d3f",
   "metadata": {},
   "outputs": [
    {
     "name": "stdout",
     "output_type": "stream",
     "text": [
      "['ruchira', 'shaiiva', 'raj', 'shivsya']\n",
      "lengh of the list 5\n",
      "['python', 'python', 'python']\n",
      "True\n",
      "True\n"
     ]
    }
   ],
   "source": [
    "# conactenation - addition of two lists\n",
    "list1 = [\"ruchira\",\"shaiiva\"]\n",
    "list2 =[\"raj\",\"shivsya\"]\n",
    "finalist = list1 +list2\n",
    "print(finalist)\n",
    "\n",
    "#lengh\n",
    "list1 = [1,2,3,4,5]\n",
    "print('lengh of the list',len(list1))\n",
    "\n",
    "#repetition \n",
    "list1 =[\"python\"]\n",
    "print(list1*3)\n",
    "\n",
    "#membership\n",
    "list1 =[1,2,3,4,5]\n",
    "print (2 in list1)\n",
    "print (99 not in list1)\n",
    "list1 =[1,2,3,4,5]\n"
   ]
  },
  {
   "cell_type": "code",
   "execution_count": 2,
   "id": "45e13de6",
   "metadata": {
    "scrolled": false
   },
   "outputs": [
    {
     "ename": "NameError",
     "evalue": "name 'list1' is not defined",
     "output_type": "error",
     "traceback": [
      "\u001b[1;31m---------------------------------------------------------------------------\u001b[0m",
      "\u001b[1;31mNameError\u001b[0m                                 Traceback (most recent call last)",
      "Cell \u001b[1;32mIn[2], line 3\u001b[0m\n\u001b[0;32m      1\u001b[0m \u001b[38;5;66;03m#smallest and largest number in the list\u001b[39;00m\n\u001b[1;32m----> 3\u001b[0m \u001b[38;5;28mprint\u001b[39m(\u001b[38;5;124m\"\u001b[39m\u001b[38;5;124mthe smallest number in the list\u001b[39m\u001b[38;5;124m\"\u001b[39m, \u001b[38;5;28mmin\u001b[39m(list1))\n\u001b[0;32m      4\u001b[0m \u001b[38;5;28mprint\u001b[39m(\u001b[38;5;124m\"\u001b[39m\u001b[38;5;124mthe largest number in the list\u001b[39m\u001b[38;5;124m\"\u001b[39m, \u001b[38;5;28mmax\u001b[39m(list1))\n\u001b[0;32m      5\u001b[0m \u001b[38;5;66;03m#sum of all numbers in the list\u001b[39;00m\n",
      "\u001b[1;31mNameError\u001b[0m: name 'list1' is not defined"
     ]
    }
   ],
   "source": [
    "#smallest and largest number in the list\n",
    "\n",
    "print(\"the smallest number in the list\", min(list1))\n",
    "print(\"the largest number in the list\", max(list1))\n",
    "#sum of all numbers in the list\n",
    "print(\"sum of all numbers is\", sum(list1))\n",
    "\n",
    "#append and extend\n",
    "list1 = [\"raj\",\"ruchira\"]\n",
    "list2 = [\"shiv\",\"shay\"]\n",
    "list1.append(\"minnie\")\n",
    "print(list1)\n",
    "list1.append(list2)\n",
    "print(list1)\n",
    "list1.extend(\"minnie\")\n",
    "print(list1)\n",
    "list1.extend(list2)\n",
    "print(list1)"
   ]
  },
  {
   "cell_type": "code",
   "execution_count": 9,
   "id": "c0262a7a",
   "metadata": {},
   "outputs": [
    {
     "name": "stdout",
     "output_type": "stream",
     "text": [
      "Dear Ruchira, welcome to python tutorials\n",
      "Dear Shaiiva, welcome to python tutorials\n",
      "\n",
      "    This function welcomes the user\n",
      "    \n"
     ]
    }
   ],
   "source": [
    "# Python Fuctions\n",
    "#function to welcome\n",
    "def welcomeuser(name):\n",
    "    \"\"\"\n",
    "    This function welcomes the user\n",
    "    \"\"\"\n",
    "    print(\"Dear \"+str(name)+\", welcome to python tutorials\")\n",
    "#calling the function\n",
    "welcomeuser(\"Ruchira\")\n",
    "welcomeuser(\"Shaiiva\")\n",
    "#Doc string\n",
    "print(welcomeuser.__doc__)"
   ]
  },
  {
   "cell_type": "code",
   "execution_count": 10,
   "id": "91ec1274",
   "metadata": {},
   "outputs": [
    {
     "name": "stdout",
     "output_type": "stream",
     "text": [
      "2 is even number\n",
      "3 is odd number\n",
      "\n",
      "    this function tells even or odd numbers\n",
      "    \n"
     ]
    }
   ],
   "source": [
    "# function to check even or odd number\n",
    "\n",
    "def verifyEvenOdd(num):\n",
    "    \"\"\"\n",
    "    this function tells even or odd numbers\n",
    "    \"\"\"\n",
    "    if (num % 2 ==0):\n",
    "        print(\"{} is even number\".format(num))\n",
    "    else:\n",
    "        print(\"{} is odd number\".format(num))\n",
    "# calling \n",
    "verifyEvenOdd(2)\n",
    "verifyEvenOdd(3)\n",
    "#Doc string\n",
    "print(verifyEvenOdd.__doc__)"
   ]
  },
  {
   "cell_type": "code",
   "execution_count": 11,
   "id": "73210bc7",
   "metadata": {},
   "outputs": [
    {
     "data": {
      "text/plain": [
       "35"
      ]
     },
     "execution_count": 11,
     "metadata": {},
     "output_type": "execute_result"
    }
   ],
   "source": [
    "#function to add 2 numbers and return te output\n",
    "def add(x,y):\n",
    "    return x + y\n",
    "#calling\n",
    "add(10,25)"
   ]
  },
  {
   "cell_type": "code",
   "execution_count": 13,
   "id": "4d679815",
   "metadata": {},
   "outputs": [
    {
     "name": "stdout",
     "output_type": "stream",
     "text": [
      "This is a global variable\n",
      "This is a global variable\n"
     ]
    }
   ],
   "source": [
    "# declaring the global variable\n",
    "globalvar =\"This is a global variable\"\n",
    "def test_life():\n",
    "    print(globalvar)\n",
    "# calling\n",
    "test_life()\n",
    "#outside function\n",
    "print(globalvar)"
   ]
  },
  {
   "cell_type": "code",
   "execution_count": 29,
   "id": "ffb6fcab",
   "metadata": {},
   "outputs": [
    {
     "name": "stdout",
     "output_type": "stream",
     "text": [
      "This is a local variable\n",
      "This is a local variable\n"
     ]
    }
   ],
   "source": [
    "# local variable \n",
    "\n",
    "def test_life():\n",
    "    localvar =\"This is a local variable\"\n",
    "    print(localvar)\n",
    "#calling\n",
    "test_life()\n",
    "print(localvar)\n",
    "\n"
   ]
  },
  {
   "cell_type": "code",
   "execution_count": 50,
   "id": "db730be1",
   "metadata": {},
   "outputs": [
    {
     "name": "stdout",
     "output_type": "stream",
     "text": [
      "dear Ruchira, you are the BEST\n",
      "dear Ruchira,you are the BEST\n",
      "name: Ruchira\n",
      "age: 35\n",
      "company: xyz\n",
      "the value entered by user ('ruchira', 'shaiiva', 'shivsya', 'shivraj')\n",
      "dear ruchira, welcome to python\n",
      "dear shaiiva, welcome to python\n",
      "dear shivsya, welcome to python\n",
      "dear shivraj, welcome to python\n"
     ]
    }
   ],
   "source": [
    "# function to welcome user with a message ( 2 arguments)\n",
    "def welcomeuser(name,message):\n",
    "    print(\"dear {0},{1}\".format(name,message))\n",
    "#calling\n",
    "welcomeuser(\"Ruchira\",\" you are the BEST\")\n",
    "\n",
    "# default argument\n",
    "def welcomeuser(name,message = \"you are the BEST\" ):\n",
    "    print(\"dear {0},{1}\".format(name,message))\n",
    "#calling\n",
    "welcomeuser(\"Ruchira\")\n",
    "\n",
    "# keyword argument \n",
    "\n",
    "def employeedetails(**user):\n",
    "    \"\"\"\n",
    "    this function used to display the employee details\n",
    "    \"\"\"\n",
    "    print(\"name:\",user['name'])\n",
    "    print(\"age:\",user['age'])\n",
    "    print(\"company:\",user['company'])\n",
    "#calling\n",
    "employeedetails(name =\"Ruchira\", age =\"35\", company=\"xyz\")\n",
    "          \n",
    "#arbitary arguments \n",
    " \n",
    "def welcomeuser(*names):\n",
    "        \"\"\"\n",
    "        this function welcome all the users with greetings\n",
    "        \"\"\"\n",
    "        print('the value entered by user', names)\n",
    "        \n",
    "        for name in s:\n",
    "            print(\"dear \"+ str(name)+\", welcome to python\")\n",
    "#calling \n",
    "welcomeuser(\"ruchira\",\"shaiiva\",\"shivsya\",\"shivraj\")\n",
    "    "
   ]
  },
  {
   "cell_type": "code",
   "execution_count": 2,
   "id": "c6ad8ff2",
   "metadata": {},
   "outputs": [
    {
     "data": {
      "text/plain": [
       "120"
      ]
     },
     "execution_count": 2,
     "metadata": {},
     "output_type": "execute_result"
    }
   ],
   "source": [
    "# recursion function - recursion is the process of defining something in term of itself\n",
    "#functions which can call it self are recursive\n",
    "#factorial n(n-1)!\n",
    "\n",
    "def factorial(num):\n",
    "    return 1 if num == 1 else (num*factorial(num -1))\n",
    "\n",
    "factorial(5)"
   ]
  },
  {
   "cell_type": "code",
   "execution_count": 4,
   "id": "929b4340",
   "metadata": {},
   "outputs": [
    {
     "name": "stdout",
     "output_type": "stream",
     "text": [
      "Enter 1st no:1\n",
      "1\n",
      "Enter 2nd no:0\n",
      "0\n",
      "(1/0)division by zero\n"
     ]
    }
   ],
   "source": [
    "#python errors\n",
    "#syntax/parsing erroe\n",
    "#runtime errors\n",
    "#exception handling erroes\n",
    "n1 = int(input(\"Enter 1st no:\"))\n",
    "print(n1)\n",
    "n2 = int(input(\"Enter 2nd no:\"))\n",
    "print(n2)\n",
    "\n",
    "try:\n",
    "    print(n1/n2)\n",
    "except ZeroDivisionError as e:\n",
    "    print(\"(\" + str(n1) + \"/\" + str(n2) + \")\" + str(e))\n",
    "    #print(e)\n",
    "    #print(n1)+\"/\"+str(n2)+\") = Divison by zero gives infinity\")\n",
    "    \n",
    "#with adding else\n",
    "#n1 = int(input(\"Enter 1st no:\"))\n",
    "#n2 = int(input(\"Enter 2nd no:\"))\n",
    "#try:\n",
    "#    print(n1/n2)\n",
    "#except ZeroDivisionError:\n",
    "#    print(\"Any number divisible by zero is infinity\")\n",
    "#else:\n",
    "#    print(\"The final value is\",div)\n",
    "          "
   ]
  },
  {
   "cell_type": "markdown",
   "id": "6a94bb2b",
   "metadata": {},
   "source": [
    "##### "
   ]
  },
  {
   "cell_type": "code",
   "execution_count": 18,
   "id": "ca39c407",
   "metadata": {},
   "outputs": [
    {
     "name": "stdout",
     "output_type": "stream",
     "text": [
      "{5: 1, 1: 2}\n",
      "<class 'dict'>\n"
     ]
    }
   ],
   "source": [
    "x = {5:1, 1:2}\n",
    "print(x) # outputs: This is a string\n",
    "print(type(x)) # outputs\n"
   ]
  },
  {
   "cell_type": "code",
   "execution_count": null,
   "id": "75615c77",
   "metadata": {},
   "outputs": [],
   "source": []
  }
 ],
 "metadata": {
  "kernelspec": {
   "display_name": "Python 3 (ipykernel)",
   "language": "python",
   "name": "python3"
  },
  "language_info": {
   "codemirror_mode": {
    "name": "ipython",
    "version": 3
   },
   "file_extension": ".py",
   "mimetype": "text/x-python",
   "name": "python",
   "nbconvert_exporter": "python",
   "pygments_lexer": "ipython3",
   "version": "3.12.0"
  }
 },
 "nbformat": 4,
 "nbformat_minor": 5
}
